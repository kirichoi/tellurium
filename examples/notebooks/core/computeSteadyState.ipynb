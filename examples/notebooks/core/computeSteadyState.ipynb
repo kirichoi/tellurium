{
 "cells": [
  {
   "cell_type": "markdown",
   "metadata": {},
   "source": [
    "Back to the main [Index](../index.ipynb)"
   ]
  },
  {
   "cell_type": "markdown",
   "metadata": {},
   "source": [
    "### Steady state calculation\n",
    "Steady states can be calculated using `r.getSteadyStateValues`"
   ]
  },
  {
   "cell_type": "code",
   "execution_count": 4,
   "metadata": {
    "collapsed": false
   },
   "outputs": [
    {
     "name": "stdout",
     "output_type": "stream",
     "text": [
      "('[S1]', '=', 0.17857142857142858)\n",
      "('[S2]', '=', 0.0)\n"
     ]
    }
   ],
   "source": [
    "%matplotlib inline\n",
    "from __future__ import print_function\n",
    "import tellurium as te\n",
    "from roadrunner import Config\n",
    "\n",
    "Config.setValue(Config.LOADSBMLOPTIONS_CONSERVED_MOIETIES, True) \n",
    "\n",
    "r = te.loada('''\n",
    "  model pathway()\n",
    "     $Xo -> S1; k1*Xo - k2*S1\n",
    "      S1 -> S2; k3*S2\n",
    "      S2 -> $X1; k4*S2\n",
    "\n",
    "     Xo = 1;   X1 = 0\n",
    "     S1 = 0;   S2 = 0\n",
    "     k1 = 0.1; k2 = 0.56\n",
    "     k3 = 1.2; k4 = 0.9\n",
    "  end\n",
    "''')\n",
    "\n",
    "# Compute steady state\n",
    "values = r.getSteadyStateValues()\n",
    "for sid, value in zip(r.steadyStateSelections, r.getSteadyStateValues()):\n",
    "    print(sid, \"=\", value)\n",
    "Config.setValue(Config.LOADSBMLOPTIONS_CONSERVED_MOIETIES, False)"
   ]
  },
  {
   "cell_type": "code",
   "execution_count": null,
   "metadata": {
    "collapsed": true
   },
   "outputs": [],
   "source": []
  }
 ],
 "metadata": {
  "kernelspec": {
   "display_name": "Python 3",
   "language": "python",
   "name": "python3"
  },
  "language_info": {
   "codemirror_mode": {
    "name": "ipython",
    "version": 2
   },
   "file_extension": ".py",
   "mimetype": "text/x-python",
   "name": "python",
   "nbconvert_exporter": "python",
   "pygments_lexer": "ipython2",
   "version": "2.7.6"
  }
 },
 "nbformat": 4,
 "nbformat_minor": 0
}
