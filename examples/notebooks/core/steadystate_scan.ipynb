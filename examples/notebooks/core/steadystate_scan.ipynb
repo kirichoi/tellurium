{
 "cells": [
  {
   "cell_type": "markdown",
   "metadata": {},
   "source": [
    "Back to the main [Index](../index.ipynb)"
   ]
  },
  {
   "cell_type": "markdown",
   "metadata": {},
   "source": [
    "### Steady state scan\n",
    "Using `te.ParameterScan.SteadyStateScan` for scanning the steady state."
   ]
  },
  {
   "cell_type": "code",
   "execution_count": 2,
   "metadata": {
    "collapsed": false
   },
   "outputs": [
    {
     "name": "stdout",
     "output_type": "stream",
     "text": [
      "[[ 2.05263158  0.5         0.48717949]\n",
      " [ 2.10526316  0.5         0.475     ]\n",
      " [ 2.15789474  0.5         0.46341463]\n",
      " [ 2.21052632  0.5         0.45238095]\n",
      " [ 2.26315789  0.5         0.44186047]\n",
      " [ 2.31578947  0.5         0.43181818]\n",
      " [ 2.36842105  0.5         0.42222222]\n",
      " [ 2.42105263  0.5         0.41304348]\n",
      " [ 2.47368421  0.5         0.40425532]\n",
      " [ 2.52631579  0.5         0.39583333]\n",
      " [ 2.57894737  0.5         0.3877551 ]\n",
      " [ 2.63157895  0.5         0.38      ]\n",
      " [ 2.68421053  0.5         0.37254902]\n",
      " [ 2.73684211  0.5         0.36538462]\n",
      " [ 2.78947368  0.5         0.35849057]\n",
      " [ 2.84210526  0.5         0.35185185]\n",
      " [ 2.89473684  0.5         0.34545455]\n",
      " [ 2.94736842  0.5         0.33928571]\n",
      " [ 3.          0.5         0.33333333]\n",
      " [ 3.05263158  0.5         0.32758621]]\n"
     ]
    },
    {
     "data": {
      "image/png": "[encoded data removed]",
      "text/plain": [
       "<matplotlib.figure.Figure at 0x7f8e8a463a90>"
      ]
     },
     "metadata": {},
     "output_type": "display_data"
    }
   ],
   "source": [
    "%matplotlib inline\n",
    "from __future__ import print_function\n",
    "import tellurium as te\n",
    "import matplotlib.pyplot as plt\n",
    "import tellurium as te\n",
    "import numpy as np\n",
    "from roadrunner import Config\n",
    "\n",
    "Config.setValue(Config.LOADSBMLOPTIONS_CONSERVED_MOIETIES, True) \n",
    "\n",
    "r = te.loada('''\n",
    "    $Xo -> S1; vo;\n",
    "    S1 -> S2; k1*S1 - k2*S2;\n",
    "    S2 -> $X1; k3*S2;\n",
    "    \n",
    "    vo = 1\n",
    "    k1 = 2; k2 = 0; k3 = 3;\n",
    "''')\n",
    "\n",
    "p = te.SteadyStateScan(r,\n",
    "    value = 'k3',\n",
    "    startValue = 2,\n",
    "    endValue = 3,\n",
    "    numberOfPoints = 20,\n",
    "    selection = ['S1', 'S2']                      \n",
    ")\n",
    "p.plotArray()\n",
    "\n",
    "Config.setValue(Config.LOADSBMLOPTIONS_CONSERVED_MOIETIES, False) "
   ]
  },
  {
   "cell_type": "code",
   "execution_count": null,
   "metadata": {
    "collapsed": true
   },
   "outputs": [],
   "source": []
  }
 ],
 "metadata": {
  "kernelspec": {
   "display_name": "Python 3",
   "language": "python",
   "name": "python3"
  },
  "language_info": {
   "codemirror_mode": {
    "name": "ipython",
    "version": 2
   },
   "file_extension": ".py",
   "mimetype": "text/x-python",
   "name": "python",
   "nbconvert_exporter": "python",
   "pygments_lexer": "ipython2",
   "version": "2.7.6"
  }
 },
 "nbformat": 4,
 "nbformat_minor": 0
}
