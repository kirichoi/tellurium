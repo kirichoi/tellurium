{
 "cells": [
  {
   "cell_type": "markdown",
   "metadata": {},
   "source": [
    "Back to the main [Index](../index.ipynb)"
   ]
  },
  {
   "cell_type": "markdown",
   "metadata": {},
   "source": [
    "### Test models"
   ]
  },
  {
   "cell_type": "code",
   "execution_count": 10,
   "metadata": {
    "collapsed": false
   },
   "outputs": [
    {
     "name": "stdout",
     "output_type": "stream",
     "text": [
      "['linearPathwayOpen.xml', 'test_1.xml', 'EcoliCore.xml', 'feedback.xml', 'linearPathwayClosed.xml']\n",
      "// Created by libAntimony v2.8.1\n",
      "model *feedback()\n",
      "\n",
      "  // Compartments and Species:\n",
      "  compartment compartment_;\n",
      "  species S1 in compartment_, S2 in compartment_, S3 in compartment_, S4 in compartment_;\n",
      "  species $X0 in compartment_, $X1 in compartment_;\n",
      "\n",
      "  // Reactions:\n",
      "  J0: $X0 => S1; J0_VM1*(X0 - S1/J0_Keq1)/(1 + X0 + S1 + S4^J0_h);\n",
      "  J1: S1 => S2; (10*S1 - 2*S2)/(1 + S1 + S2);\n",
      "  J2: S2 => S3; (10*S2 - 2*S3)/(1 + S2 + S3);\n",
      "  J3: S3 => S4; (10*S3 - 2*S4)/(1 + S3 + S4);\n",
      "  J4: S4 => $X1; J4_V4*S4/(J4_KS4 + S4);\n",
      "\n",
      "  // Species initializations:\n",
      "  S1 = 0;\n",
      "  S2 = 0;\n",
      "  S3 = 0;\n",
      "  S4 = 0;\n",
      "  X0 = 10;\n",
      "  X1 = 0;\n",
      "\n",
      "  // Compartment initializations:\n",
      "  compartment_ = 1;\n",
      "\n",
      "  // Variable initializations:\n",
      "  J0_VM1 = 10;\n",
      "  J0_Keq1 = 10;\n",
      "  J0_h = 10;\n",
      "  J4_V4 = 2.5;\n",
      "  J4_KS4 = 0.5;\n",
      "\n",
      "  // Other declarations:\n",
      "  const compartment_, J0_VM1, J0_Keq1, J0_h, J4_V4, J4_KS4;\n",
      "end\n",
      "\n"
     ]
    }
   ],
   "source": [
    "%matplotlib inline\n",
    "from __future__ import print_function\n",
    "import tellurium as te\n",
    "\n",
    "# To get the builtin models use listTestModels\n",
    "print(te.listTestModels())"
   ]
  },
  {
   "cell_type": "markdown",
   "metadata": {},
   "source": [
    "#### Load test model"
   ]
  },
  {
   "cell_type": "code",
   "execution_count": null,
   "metadata": {
    "collapsed": true
   },
   "outputs": [],
   "source": [
    "# To load one of the test models use loadTestModel:\n",
    "# r = te.loadTestModel('feedback.xml')\n",
    "# result = r.simulate (0, 10, 100)\n",
    "# r.plot (result)\n",
    "\n",
    "# If you need to obtain the SBML for the test model, use getTestModel\n",
    "sbml = te.getTestModel('feedback.xml')\n",
    "\n",
    "# To look at one of the test model in Antimony form:\n",
    "ant = te.sbmlToAntimony(te.getTestModel('feedback.xml'))\n",
    "print(ant)"
   ]
  }
 ],
 "metadata": {
  "kernelspec": {
   "display_name": "Python 3",
   "language": "python",
   "name": "python3"
  },
  "language_info": {
   "codemirror_mode": {
    "name": "ipython",
    "version": 2
   },
   "file_extension": ".py",
   "mimetype": "text/x-python",
   "name": "python",
   "nbconvert_exporter": "python",
   "pygments_lexer": "ipython2",
   "version": "2.7.6"
  }
 },
 "nbformat": 4,
 "nbformat_minor": 0
}
